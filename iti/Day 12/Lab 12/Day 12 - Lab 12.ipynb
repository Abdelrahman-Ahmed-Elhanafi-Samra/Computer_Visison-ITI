{
 "cells": [
  {
   "cell_type": "code",
   "execution_count": 1,
   "id": "20cac2d6",
   "metadata": {},
   "outputs": [],
   "source": [
    "import numpy as np\n",
    "import cv2\n",
    "import matplotlib.pyplot as plt\n",
    "import helpers "
   ]
  },
  {
   "cell_type": "markdown",
   "id": "1386ec7e",
   "metadata": {},
   "source": [
    "## Q1 Make Trackbar for the following images to tune the parameters of canny detection.\n",
    "_____________________________________"
   ]
  },
  {
   "cell_type": "code",
   "execution_count": 2,
   "id": "8263c689",
   "metadata": {},
   "outputs": [],
   "source": [
    "img = cv2.imread('solidWhiteCurve.jpg')\n",
    "#print(type(img))\n",
    "gray = cv2.cvtColor(img, cv2.COLOR_BGR2GRAY)\n",
    "\n",
    "gray_blur = cv2.GaussianBlur(gray, (3,3), 0)\n",
    "\n",
    "cv2.namedWindow('Canny Detection')\n",
    "\n",
    "def nothing(x):\n",
    "    pass\n",
    "\n",
    "cv2.createTrackbar('Threshold 1','Canny Detection', 0, 100, nothing)\n",
    "cv2.createTrackbar('Threshold 2','Canny Detection', 0, 200, nothing)\n",
    "\n",
    "threshold1 = threshold2 = 0\n",
    "\n",
    "while True:\n",
    "    threshold1 = cv2.getTrackbarPos('Threshold 1','Canny Detection')\n",
    "    threshold2 = cv2.getTrackbarPos('Threshold 2','Canny Detection')\n",
    "    edges_image = cv2.Canny(gray_blur, threshold1, threshold2)\n",
    "\n",
    "    cv2.imshow('Canny Detection', edges_image)\n",
    "    \n",
    "    k = cv2.waitKey(1)\n",
    "    \n",
    "    if k == ord('q'):\n",
    "        break\n",
    "\n",
    "cv2.destroyAllWindows()\n",
    "\n",
    "\n",
    "# My observation is Trackbar is the best solution to know our pramters ... like in this situation when \n",
    "# we increase threshold 1 and 2 the edges will appear clear without any addition details"
   ]
  },
  {
   "cell_type": "markdown",
   "id": "39ecebd3",
   "metadata": {},
   "source": [
    "## Q2 The out of question 1 make it as input for question 2 after make region of interest then make trackbar for houghlines parameters (threshold ,min_line_length max_line_gap) and then draw 2 line on image.\n",
    "____________________________________"
   ]
  },
  {
   "cell_type": "code",
   "execution_count": 3,
   "id": "30dc28bf",
   "metadata": {},
   "outputs": [],
   "source": [
    "def helpers_masked_edges(edges):\n",
    "    mask = np.zeros_like(edges)\n",
    "    #defining a 3 channel or 1 channel color to fill the mask with depending on the input image\n",
    "    if len(edges.shape) > 2:\n",
    "        channel_count = edges.shape[2]  # i.e. 3 or 4 depending on your image\n",
    "        ignore_mask_color = (255,) * channel_count\n",
    "    else:\n",
    "        ignore_mask_color = 255\n",
    "    imshape = edges.shape        \n",
    "    vertices = np.array([[((1/6*imshape[1]),imshape[0]),((5/12*imshape[1]), (3/5*imshape[0])), ((7/12*imshape[1]), (3/5*imshape[0])), ((9/10*imshape[1]),imshape[0])]], dtype=np.int32)\n",
    "    cv2.fillPoly(mask, vertices, ignore_mask_color)\n",
    "    masked_edges = cv2.bitwise_and(edges, mask)\n",
    "    return(masked_edges)"
   ]
  },
  {
   "cell_type": "code",
   "execution_count": 4,
   "id": "be9416ba",
   "metadata": {},
   "outputs": [],
   "source": [
    "RHO = 1                \n",
    "THETA = np.pi/180       \n",
    "def hough_lines(img, MIN_VOTES, MIN_LINE_LEN, MAX_LINE_GAP):\n",
    "    lines = cv2.HoughLinesP(img, RHO, THETA, MIN_VOTES, np.array([]), minLineLength=MIN_LINE_LEN, maxLineGap=MAX_LINE_GAP)\n",
    "    return lines"
   ]
  },
  {
   "cell_type": "code",
   "execution_count": 5,
   "id": "bbbfd345",
   "metadata": {},
   "outputs": [],
   "source": [
    "def helpers_draw_lines(lines, masked_edges):\n",
    "    color = [243, 105, 14]\n",
    "    thickness = 12\n",
    "    lines_image = np.zeros((masked_edges.shape[0], masked_edges.shape[1], 3), dtype=np.uint8)\n",
    "    for line in lines:\n",
    "        for x1,y1,x2,y2 in line:\n",
    "            cv2.line(lines_image, (x1, y1), (x2, y2), color, thickness)\n",
    "    return(lines_image)"
   ]
  },
  {
   "cell_type": "code",
   "execution_count": 6,
   "id": "046ac1d2",
   "metadata": {},
   "outputs": [],
   "source": [
    "def helpers_edges(gray,threshold1,threshold2):\n",
    "    kernel_size = 5 #kernel size for Gaussian smoothing / blurring\n",
    "    blur_gray= cv2.GaussianBlur(gray, (kernel_size, kernel_size), 0)#Gaussian smoothing / blurring\n",
    "\n",
    "    edges = cv2.Canny(blur_gray, threshold1, threshold2)\n",
    "    return(edges)"
   ]
  },
  {
   "cell_type": "code",
   "execution_count": 7,
   "id": "97b67b33",
   "metadata": {},
   "outputs": [],
   "source": [
    "cv2.namedWindow('image')\n",
    "\n",
    "cv2.createTrackbar('MIN_VOTES', 'image', 10, 50, nothing)   \n",
    "cv2.createTrackbar('MIN_LINE_LEN', 'image', 1, 200, nothing)   \n",
    "cv2.createTrackbar('MAX_LINE_GAP', 'image', 1, 200, nothing) \n",
    "\n",
    "while True:\n",
    "    img = cv2.imread('solidWhiteCurve.jpg') \n",
    "    img = cv2.cvtColor(img, cv2.COLOR_BGR2RGB)\n",
    "    gray_img = cv2.cvtColor(img, cv2.COLOR_RGB2GRAY)\n",
    "    \n",
    "    edges_img = helpers_edges(gray_img,50,64)\n",
    "    ROI_edges_img = helpers_masked_edges(edges_img)\n",
    "    \n",
    "    min_votes = cv2.getTrackbarPos('MIN_VOTES','image')\n",
    "    min_line_len = cv2.getTrackbarPos('MIN_LINE_LEN','image')\n",
    "    max_line_gap = cv2.getTrackbarPos('MAX_LINE_GAP','image')\n",
    "    \n",
    "    lines = hough_lines(ROI_edges_img, min_votes, min_line_len, max_line_gap)\n",
    "    hough_lines_image = helpers_draw_lines(lines, ROI_edges_img)\n",
    "    \n",
    "    cv2.imshow('image', hough_lines_image)\n",
    "    \n",
    "    k = cv2.waitKey(1)\n",
    "    if k == ord('q'):\n",
    "        break\n",
    "\n",
    "cv2.destroyAllWindows()\n",
    "\n",
    "\n",
    "#My observation is , the the best parameters is Min_Votes = 15, MIN_LINE_LEN = 115, MAX_LINE_GAP = 34"
   ]
  }
 ],
 "metadata": {
  "kernelspec": {
   "display_name": "Python 3 (ipykernel)",
   "language": "python",
   "name": "python3"
  },
  "language_info": {
   "codemirror_mode": {
    "name": "ipython",
    "version": 3
   },
   "file_extension": ".py",
   "mimetype": "text/x-python",
   "name": "python",
   "nbconvert_exporter": "python",
   "pygments_lexer": "ipython3",
   "version": "3.9.7"
  }
 },
 "nbformat": 4,
 "nbformat_minor": 5
}
