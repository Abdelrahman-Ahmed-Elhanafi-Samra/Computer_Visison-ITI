{
 "cells": [
  {
   "cell_type": "markdown",
   "id": "f41a7180",
   "metadata": {},
   "source": [
    "**1) Write a python code that ask the user\n",
    "to enter his birth year and then print his\n",
    "age in years.**\n",
    "_____________________________________________________"
   ]
  },
  {
   "cell_type": "code",
   "execution_count": 1,
   "id": "50a80750",
   "metadata": {},
   "outputs": [
    {
     "name": "stdout",
     "output_type": "stream",
     "text": [
      "Please enter your birth year: 21\n",
      "You are 2001 Years Old\n"
     ]
    }
   ],
   "source": [
    "from datetime import date\n",
    "\n",
    "current_year = date.today().year\n",
    "\n",
    "birth_year = int(input(\"Please enter your birth year: \"))\n",
    "\n",
    "your_date = current_year - birth_year\n",
    "\n",
    "print(f\"You are {your_date} Years Old\")"
   ]
  },
  {
   "cell_type": "markdown",
   "id": "5d4510d4",
   "metadata": {},
   "source": [
    "**2) Write a python code to find Sum and Average of N\n",
    "Natural Numbers**\n",
    "______________________________________________"
   ]
  },
  {
   "cell_type": "code",
   "execution_count": 2,
   "id": "cdd88c27",
   "metadata": {},
   "outputs": [
    {
     "name": "stdout",
     "output_type": "stream",
     "text": [
      "Please Enter any Number: 50\n",
      "The Sum of Natural Numbers from 1 to 50 =  1275\n",
      "Average of Natural Numbers from 1 to 50 =  25.5\n"
     ]
    }
   ],
   "source": [
    "number = int(input(\"Please Enter any Number: \"))\n",
    "\n",
    "Sum = 0 \n",
    "for num in range(1, number+1):\n",
    "    Sum += num\n",
    "\n",
    "print(f\"The Sum of Natural Numbers from 1 to {number} = \", Sum)\n",
    "print(f\"Average of Natural Numbers from 1 to {number} = \", Sum/number)"
   ]
  },
  {
   "cell_type": "markdown",
   "id": "e4907651",
   "metadata": {},
   "source": [
    "**3) Python Program to Check Even or Odd**\n",
    "_____________________________________________________"
   ]
  },
  {
   "cell_type": "code",
   "execution_count": 3,
   "id": "4de77196",
   "metadata": {
    "scrolled": true
   },
   "outputs": [
    {
     "name": "stdout",
     "output_type": "stream",
     "text": [
      "Enter 'q' for exit.\n",
      "Enter any number: 5\n",
      "5 is an odd number.\n",
      "______________________\n",
      "Enter any number: 6\n",
      "6 is an even number.\n",
      "______________________\n",
      "Enter any number: 12\n",
      "12 is an even number.\n",
      "______________________\n",
      "Enter any number: 33\n",
      "33 is an odd number.\n",
      "______________________\n",
      "Enter any number: q\n"
     ]
    }
   ],
   "source": [
    "print(\"Enter 'q' for exit.\")\n",
    "\n",
    "num_check = input(\"Enter any number: \")\n",
    "\n",
    "while(num_check != 'q'):\n",
    "    if int(num_check) % 2 == 0:\n",
    "        print(f\"{int(num_check)} is an even number.\\n\" + '_'*22)\n",
    "    else:\n",
    "        print(f\"{int(num_check)} is an odd number.\\n\" + '_'*22)\n",
    "   \n",
    "    num_check = input(\"Enter any number: \")"
   ]
  },
  {
   "cell_type": "markdown",
   "id": "11e2d1b2",
   "metadata": {},
   "source": [
    "**7- Implement a code that takes as an input ASCII code for\n",
    "some characters and combine them to form a string.**\n",
    "___________________________________"
   ]
  },
  {
   "cell_type": "code",
   "execution_count": 4,
   "id": "1be08ac5",
   "metadata": {},
   "outputs": [
    {
     "name": "stdout",
     "output_type": "stream",
     "text": [
      "Enter Your ASCII number : 65981001011081149710410997110\n",
      "Your complete string is:  Abdelrahman\n"
     ]
    }
   ],
   "source": [
    "digits = [int(s) for s in input('Enter Your ASCII number : ')]\n",
    "string = []\n",
    "Sum = ''\n",
    "for num in digits:\n",
    "    Sum += str(num)\n",
    "    if(int(Sum) >= 65 and int(Sum) <= 122):\n",
    "        string.append(chr(int(Sum)))\n",
    "        Sum = ''\n",
    "        \n",
    "print(\"Your complete string is: \",''.join(string))"
   ]
  },
  {
   "cell_type": "markdown",
   "id": "e625d905",
   "metadata": {},
   "source": [
    "**8- Write a Python program which accepts the radius of a circle\n",
    "from the user and compute the area.**\n",
    "________________________________________"
   ]
  },
  {
   "cell_type": "code",
   "execution_count": 5,
   "id": "968c148b",
   "metadata": {},
   "outputs": [
    {
     "name": "stdout",
     "output_type": "stream",
     "text": [
      "Please enter the radius of circle: 5\n",
      "\n",
      "The area of circle is =  78.53981633974483\n"
     ]
    }
   ],
   "source": [
    "import math\n",
    "\n",
    "radius = int(input('Please enter the radius of circle: '))\n",
    "\n",
    "circle_area = math.pi * pow(radius, 2)\n",
    "\n",
    "print(\"\\nThe area of circle is = \", circle_area)"
   ]
  },
  {
   "cell_type": "markdown",
   "id": "0d1b6d9e",
   "metadata": {},
   "source": [
    "**9- Write a Python program which accepts the user's first and\n",
    "last name and print them in reverse order with a space between\n",
    "them.**\n",
    "____________________________________________________"
   ]
  },
  {
   "cell_type": "code",
   "execution_count": 6,
   "id": "7252aef5",
   "metadata": {},
   "outputs": [
    {
     "name": "stdout",
     "output_type": "stream",
     "text": [
      "Enter your first name: Abdelrahman\n",
      "Enter your last name: Elhanafi\n",
      "______________________\n",
      "Elhanafi Abdelrahman\n"
     ]
    }
   ],
   "source": [
    "first = input(\"Enter your first name: \")\n",
    "last = input(\"Enter your last name: \")\n",
    "print('_'*22 + '\\n' + last + \" \" + first)"
   ]
  },
  {
   "cell_type": "markdown",
   "id": "1c28751a",
   "metadata": {},
   "source": [
    "**10- Write a Python program to print the following string in a\n",
    "specific format with one variable name.\n",
    "name= ‘Twinkle’ (string)**\n",
    "________________________________________"
   ]
  },
  {
   "cell_type": "code",
   "execution_count": 7,
   "id": "bc6142d5",
   "metadata": {},
   "outputs": [
    {
     "name": "stdout",
     "output_type": "stream",
     "text": [
      "Enter your name: Twinkle\n",
      "\n",
      "\n",
      "Twinkle, twinkle, little star,\n",
      "\t How I wonder what you are!\n",
      "\t\t Up above the world so high,\n",
      "\t\t Like a diamond in the sky.\n",
      "Twinkle, twinkle, little star,\n",
      "\t How I wonder what you are\n"
     ]
    }
   ],
   "source": [
    "name = input('Enter your name: ')\n",
    "\n",
    "print(f'\\n\\n{name.capitalize()}, {name.lower()}, little star,\\n\\t How I wonder what you are!\\n\\t' + \n",
    "      '\\t Up above the world so high,\\n\\t\\t Like a diamond in the sky.\\n' +\n",
    "      f'{name.capitalize()}, {name.lower()}, little star,\\n\\t How I wonder what you are')"
   ]
  }
 ],
 "metadata": {
  "kernelspec": {
   "display_name": "Python 3 (ipykernel)",
   "language": "python",
   "name": "python3"
  },
  "language_info": {
   "codemirror_mode": {
    "name": "ipython",
    "version": 3
   },
   "file_extension": ".py",
   "mimetype": "text/x-python",
   "name": "python",
   "nbconvert_exporter": "python",
   "pygments_lexer": "ipython3",
   "version": "3.9.7"
  }
 },
 "nbformat": 4,
 "nbformat_minor": 5
}
