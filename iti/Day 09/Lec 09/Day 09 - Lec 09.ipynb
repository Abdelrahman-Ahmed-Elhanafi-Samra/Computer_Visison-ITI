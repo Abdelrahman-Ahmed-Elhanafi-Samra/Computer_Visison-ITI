{
 "cells": [
  {
   "cell_type": "code",
   "execution_count": 1,
   "id": "d4ac02fe",
   "metadata": {},
   "outputs": [],
   "source": [
    "import cv2\n",
    "import numpy as np\n",
    "import matplotlib.pyplot as plt"
   ]
  },
  {
   "cell_type": "code",
   "execution_count": 2,
   "id": "dde450ca",
   "metadata": {},
   "outputs": [],
   "source": [
    "cv2.namedWindow(\"Image\")\n",
    "\n",
    "def nothing(x):\n",
    "    pass\n",
    "\n",
    "\n",
    "cv2.createTrackbar('x_horz', 'Image', 0, 599, nothing)\n",
    "cv2.createTrackbar('y_horz', 'Image', 0, 599, nothing)\n",
    "cv2.createTrackbar('x_vert', 'Image', 0, 599, nothing)\n",
    "cv2.createTrackbar('y_vert', 'Image', 0, 599, nothing)\n",
    "\n",
    "\n",
    "while(True):\n",
    "    img = np.zeros((500, 500, 3), np.uint8)\n",
    "    x_horz = cv2.getTrackbarPos('x_horz', 'Image') \n",
    "    y_horz = cv2.getTrackbarPos('y_horz', 'Image')\n",
    "    x_vert = cv2.getTrackbarPos('x_vert', 'Image')\n",
    "    y_vert = cv2.getTrackbarPos('y_vert', 'Image')\n",
    "    \n",
    "    cv2.line(img, (x_horz, y_horz), (x_vert, y_vert), (0,0,255), 5)\n",
    "    cv2.imshow('Image', img)\n",
    "   \n",
    "    key = cv2.waitKey(1)\n",
    "    \n",
    "    if key == ord('q'):\n",
    "        break\n",
    "\n",
    "cv2.destroyAllWindows()"
   ]
  },
  {
   "cell_type": "code",
   "execution_count": 3,
   "id": "0bb720bb",
   "metadata": {},
   "outputs": [
    {
     "data": {
      "text/plain": [
       "<matplotlib.image.AxesImage at 0x2d985f3fa30>"
      ]
     },
     "execution_count": 3,
     "metadata": {},
     "output_type": "execute_result"
    },
    {
     "data": {
      "image/png": "[encoded data removed]",
      "text/plain": [
       "<Figure size 432x288 with 1 Axes>"
      ]
     },
     "metadata": {
      "needs_background": "light"
     },
     "output_type": "display_data"
    }
   ],
   "source": [
    "img = np.zeros((500, 500, 3), np.uint8)\n",
    "cv2.rectangle(img, (100,100), (400,400), (0,255,255), -1)\n",
    "plt.imshow(img[:,:,::-1])"
   ]
  },
  {
   "cell_type": "code",
   "execution_count": 4,
   "id": "3d5f63d8",
   "metadata": {},
   "outputs": [
    {
     "data": {
      "text/plain": [
       "<matplotlib.image.AxesImage at 0x2d988165ee0>"
      ]
     },
     "execution_count": 4,
     "metadata": {},
     "output_type": "execute_result"
    },
    {
     "data": {
      "image/png": "[encoded data removed]",
      "text/plain": [
       "<Figure size 432x288 with 1 Axes>"
      ]
     },
     "metadata": {
      "needs_background": "light"
     },
     "output_type": "display_data"
    }
   ],
   "source": [
    "cv2.namedWindow(\"Trackbar\")\n",
    "\n",
    "cv2.namedWindow('Image')\n",
    "def nothing(x):\n",
    "    pass\n",
    "\n",
    "\n",
    "cv2.createTrackbar('x_horz', 'Trackbar', 0, 500, nothing)\n",
    "cv2.createTrackbar('y_horz', 'Trackbar', 0, 500, nothing)\n",
    "cv2.createTrackbar('x_vert', 'Trackbar', 0, 500, nothing)\n",
    "cv2.createTrackbar('y_vert', 'Trackbar', 0, 500, nothing)\n",
    "\n",
    "cv2.createTrackbar('red',   'Trackbar', 0, 255, nothing)\n",
    "cv2.createTrackbar('green', 'Trackbar', 0, 255, nothing)\n",
    "cv2.createTrackbar('blue',  'Trackbar', 0, 255, nothing)\n",
    "\n",
    "cv2.createTrackbar('thickness', 'Trackbar', 0, 100, nothing)\n",
    "\n",
    "while(True):\n",
    "    img = np.zeros((500, 500, 3), np.uint8)\n",
    "    x_horz = cv2.getTrackbarPos('x_horz',   'Trackbar') \n",
    "    y_horz = cv2.getTrackbarPos('y_horz',   'Trackbar')\n",
    "    x_vert = cv2.getTrackbarPos('x_vert',   'Trackbar')\n",
    "    y_vert = cv2.getTrackbarPos('y_vert',   'Trackbar')\n",
    "    red    = cv2.getTrackbarPos('red',      'Trackbar')\n",
    "    green  = cv2.getTrackbarPos('green',    'Trackbar')\n",
    "    blue   = cv2.getTrackbarPos('blue',     'Trackbar')\n",
    "    thick  = cv2.getTrackbarPos('thickness','Trackbar')\n",
    "    \n",
    "    \n",
    "    cv2.line(img, (x_horz, y_horz), (x_vert, y_vert), (red, green, blue), thick+1)\n",
    "    cv2.imshow('Image', img)\n",
    "   \n",
    "    key = cv2.waitKey(1)\n",
    "    \n",
    "    if key == ord('q'):\n",
    "        break\n",
    "\n",
    "cv2.destroyAllWindows()\n",
    "\n",
    "plt.imshow(img[:,:,::-1])"
   ]
  },
  {
   "cell_type": "code",
   "execution_count": 5,
   "id": "347f9f20",
   "metadata": {},
   "outputs": [],
   "source": [
    "cv2.namedWindow(\"Image\")\n",
    "\n",
    "def nothing(x):\n",
    "    pass\n",
    "\n",
    "\n",
    "cv2.createTrackbar('width', 'Image', 0, 500, nothing)\n",
    "cv2.createTrackbar('height','Image', 0, 500, nothing)\n",
    "cv2.createTrackbar('angle', 'Image', 0, 500, nothing)\n",
    "cv2.createTrackbar('start', 'Image', 0, 500, nothing)\n",
    "cv2.createTrackbar('end',   'Image', 0, 500, nothing)\n",
    "\n",
    "\n",
    "\n",
    "while(True):\n",
    "    img = np.zeros((500, 500, 3), np.uint8)\n",
    "\n",
    "    width  = cv2.getTrackbarPos('width',  'Image') \n",
    "    height = cv2.getTrackbarPos('height', 'Image')\n",
    "    angle  = cv2.getTrackbarPos('angle',  'Image')\n",
    "    start  = cv2.getTrackbarPos('start',  'Image')\n",
    "    end    = cv2.getTrackbarPos('end',    'Image')\n",
    "    \n",
    "    cv2.ellipse(img, (250, 250), (width, height), angle, start, end, (0,255,255), -1)\n",
    "    cv2.imshow('Image', img)\n",
    "   \n",
    "    key = cv2.waitKey(1)\n",
    "    \n",
    "    if key == ord('q'):\n",
    "        break\n",
    "\n",
    "cv2.destroyAllWindows()\n"
   ]
  }
 ],
 "metadata": {
  "kernelspec": {
   "display_name": "Python 3 (ipykernel)",
   "language": "python",
   "name": "python3"
  },
  "language_info": {
   "codemirror_mode": {
    "name": "ipython",
    "version": 3
   },
   "file_extension": ".py",
   "mimetype": "text/x-python",
   "name": "python",
   "nbconvert_exporter": "python",
   "pygments_lexer": "ipython3",
   "version": "3.9.7"
  }
 },
 "nbformat": 4,
 "nbformat_minor": 5
}
