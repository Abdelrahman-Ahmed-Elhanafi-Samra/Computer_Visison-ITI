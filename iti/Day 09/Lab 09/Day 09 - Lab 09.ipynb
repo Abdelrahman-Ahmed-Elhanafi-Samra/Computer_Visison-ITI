{
 "cells": [
  {
   "cell_type": "markdown",
   "id": "16a7d134",
   "metadata": {},
   "source": [
    "# <font color = green>Import Library 📚"
   ]
  },
  {
   "cell_type": "code",
   "execution_count": 1,
   "id": "cfad4253",
   "metadata": {},
   "outputs": [],
   "source": [
    "import cv2\n",
    "import numpy as np\n",
    "from matplotlib import pyplot as plt"
   ]
  },
  {
   "cell_type": "markdown",
   "id": "a94a9931",
   "metadata": {},
   "source": [
    "## Q1- Create image 256 * 256 Draw red square 50*50 in the center of blue circle with radius 80 the center of both square and circle is the same center of image. \n",
    "______________________________________"
   ]
  },
  {
   "cell_type": "code",
   "execution_count": 2,
   "id": "9109e313",
   "metadata": {},
   "outputs": [
    {
     "data": {
      "text/plain": [
       "<matplotlib.image.AxesImage at 0x17f7bea3af0>"
      ]
     },
     "execution_count": 2,
     "metadata": {},
     "output_type": "execute_result"
    },
    {
     "data": {
      "image/png": "[encoded data removed]",
      "text/plain": [
       "<Figure size 432x288 with 1 Axes>"
      ]
     },
     "metadata": {
      "needs_background": "light"
     },
     "output_type": "display_data"
    }
   ],
   "source": [
    "img = np.zeros((256, 256, 3), np.uint8)\n",
    "\n",
    "cv2.circle(img, (128,128), 80, [255,0,0] ,5)\n",
    "cv2.rectangle(img, (103,103), (153,153), (0,0,255), 5)\n",
    "\n",
    "plt.imshow(img[:,:,::-1])"
   ]
  },
  {
   "cell_type": "markdown",
   "id": "540d017c",
   "metadata": {},
   "source": [
    "## Q2 make trackbar to control line position ,color and thickness in image 500 * 500 rgb."
   ]
  },
  {
   "cell_type": "code",
   "execution_count": 3,
   "id": "4c6df71d",
   "metadata": {
    "scrolled": true
   },
   "outputs": [
    {
     "data": {
      "text/plain": [
       "<matplotlib.image.AxesImage at 0x17f7c65d820>"
      ]
     },
     "execution_count": 3,
     "metadata": {},
     "output_type": "execute_result"
    },
    {
     "data": {
      "image/png": "[encoded data removed]",
      "text/plain": [
       "<Figure size 432x288 with 1 Axes>"
      ]
     },
     "metadata": {
      "needs_background": "light"
     },
     "output_type": "display_data"
    }
   ],
   "source": [
    "cv2.namedWindow(\"Trackbar\")\n",
    "\n",
    "cv2.namedWindow('Image')\n",
    "def nothing(x):\n",
    "    pass\n",
    "\n",
    "\n",
    "cv2.createTrackbar('x_horz', 'Trackbar', 0, 500, nothing)\n",
    "cv2.createTrackbar('y_horz', 'Trackbar', 0, 500, nothing)\n",
    "cv2.createTrackbar('x_vert', 'Trackbar', 0, 500, nothing)\n",
    "cv2.createTrackbar('y_vert', 'Trackbar', 0, 500, nothing)\n",
    "\n",
    "cv2.createTrackbar('red',   'Trackbar', 0, 255, nothing)\n",
    "cv2.createTrackbar('green', 'Trackbar', 0, 255, nothing)\n",
    "cv2.createTrackbar('blue',  'Trackbar', 0, 255, nothing)\n",
    "\n",
    "cv2.createTrackbar('thickness', 'Trackbar', 0, 100, nothing)\n",
    "\n",
    "while(True):\n",
    "    img = np.zeros((500, 500, 3), np.uint8)\n",
    "    x_horz = cv2.getTrackbarPos('x_horz',   'Trackbar') \n",
    "    y_horz = cv2.getTrackbarPos('y_horz',   'Trackbar')\n",
    "    x_vert = cv2.getTrackbarPos('x_vert',   'Trackbar')\n",
    "    y_vert = cv2.getTrackbarPos('y_vert',   'Trackbar')\n",
    "    red    = cv2.getTrackbarPos('red',      'Trackbar')\n",
    "    green  = cv2.getTrackbarPos('green',    'Trackbar')\n",
    "    blue   = cv2.getTrackbarPos('blue',     'Trackbar')\n",
    "    thick  = cv2.getTrackbarPos('thickness','Trackbar')\n",
    "    \n",
    "    \n",
    "    cv2.line(img, (x_horz, y_horz), (x_vert, y_vert), (red, green, blue), thick+1)\n",
    "    cv2.imshow('Image', img)\n",
    "   \n",
    "    key = cv2.waitKey(1)\n",
    "    \n",
    "    if key == ord('q'):\n",
    "        break\n",
    "\n",
    "cv2.destroyAllWindows()\n",
    "\n",
    "plt.imshow(img[:,:,::-1])"
   ]
  },
  {
   "cell_type": "markdown",
   "id": "6be5a643",
   "metadata": {},
   "source": [
    "## Q3 make trackbar to control position,radius and color of circle in image 500*500 rgb."
   ]
  },
  {
   "cell_type": "code",
   "execution_count": 4,
   "id": "b893e55d",
   "metadata": {},
   "outputs": [
    {
     "data": {
      "text/plain": [
       "<matplotlib.image.AxesImage at 0x17f7c7def10>"
      ]
     },
     "execution_count": 4,
     "metadata": {},
     "output_type": "execute_result"
    },
    {
     "data": {
      "image/png": "[encoded data removed]",
      "text/plain": [
       "<Figure size 432x288 with 1 Axes>"
      ]
     },
     "metadata": {
      "needs_background": "light"
     },
     "output_type": "display_data"
    }
   ],
   "source": [
    "cv2.namedWindow(\"Trackbar\")\n",
    "\n",
    "cv2.namedWindow('Image')\n",
    "def nothing(x):\n",
    "    pass\n",
    "\n",
    "\n",
    "cv2.createTrackbar('height', 'Trackbar', 0, 500, nothing)\n",
    "cv2.createTrackbar('width' , 'Trackbar', 0, 500, nothing)\n",
    "cv2.createTrackbar('radius', 'Trackbar', 0, 500, nothing)\n",
    "\n",
    "\n",
    "cv2.createTrackbar('red', 'Trackbar',   0, 255, nothing)\n",
    "cv2.createTrackbar('green', 'Trackbar', 0, 255, nothing)\n",
    "cv2.createTrackbar('blue', 'Trackbar',  0, 255, nothing)\n",
    "\n",
    "cv2.createTrackbar('thickness', 'Trackbar', 0, 100, nothing)\n",
    "\n",
    "while(True):\n",
    "    img = np.zeros((500, 500, 3), np.uint8)\n",
    "    height = cv2.getTrackbarPos('height',   'Trackbar') \n",
    "    width  = cv2.getTrackbarPos('width',    'Trackbar')\n",
    "    radius = cv2.getTrackbarPos('radius',   'Trackbar')\n",
    "    \n",
    "    red    = cv2.getTrackbarPos('red',      'Trackbar')\n",
    "    green  = cv2.getTrackbarPos('green',    'Trackbar')\n",
    "    blue   = cv2.getTrackbarPos('blue',     'Trackbar')\n",
    "    \n",
    "    thick  = cv2.getTrackbarPos('thickness','Trackbar')\n",
    "    \n",
    "    \n",
    "    cv2.circle(img, (height, width), radius, (red, green, blue), thick-1)\n",
    "    cv2.imshow('Image', img)\n",
    "   \n",
    "    key = cv2.waitKey(1)\n",
    "    \n",
    "    if key == ord('q'):\n",
    "        break\n",
    "\n",
    "cv2.destroyAllWindows()\n",
    "\n",
    "plt.imshow(img[:,:,::-1])"
   ]
  },
  {
   "cell_type": "markdown",
   "id": "0135eff9",
   "metadata": {},
   "source": [
    "## Q4 create image 800*800 rgb write a word “Hello”with red color and draw yellow rectangle on border of word"
   ]
  },
  {
   "cell_type": "code",
   "execution_count": 5,
   "id": "1d16980a",
   "metadata": {
    "scrolled": false
   },
   "outputs": [
    {
     "data": {
      "text/plain": [
       "<matplotlib.image.AxesImage at 0x17f7c82df40>"
      ]
     },
     "execution_count": 5,
     "metadata": {},
     "output_type": "execute_result"
    },
    {
     "data": {
      "image/png": "[encoded data removed]",
      "text/plain": [
       "<Figure size 720x1080 with 1 Axes>"
      ]
     },
     "metadata": {
      "needs_background": "light"
     },
     "output_type": "display_data"
    }
   ],
   "source": [
    "img = np.zeros((800, 800, 3), np.uint8)\n",
    "\n",
    "plt.figure(figsize = (10,15))\n",
    "font = cv2.FONT_HERSHEY_DUPLEX\n",
    "\n",
    "cv2.rectangle(img, (100,100), (410,220), (0, 255, 255), 5)\n",
    "cv2.putText(img, 'Hello', (100,200), font, 4, (0, 0, 255), 6, cv2.LINE_AA)\n",
    "\n",
    "plt.imshow(img[:, :, ::-1])"
   ]
  },
  {
   "cell_type": "markdown",
   "id": "01770046",
   "metadata": {},
   "source": [
    "## Q5 create image 800*800 rgb with red circle in center of image with radius 100and make small blue circle with radius of 6 that move within circumference of the big circle every 1 second 10 degree."
   ]
  },
  {
   "cell_type": "code",
   "execution_count": 6,
   "id": "d762fdf3",
   "metadata": {},
   "outputs": [],
   "source": [
    "import math\n",
    "\n",
    "cv2.namedWindow(\"Image\")\n",
    "r = 0\n",
    "\n",
    "while True:\n",
    "    img = np.zeros((800, 800, 3), np.uint8)\n",
    "    cv2.circle(img, (400,400), 100, (255,0,0) ,5)\n",
    "    \n",
    "    \n",
    "    x = int((400 + 100*math.cos(math.radians(r))))\n",
    "    y = int((400 + 100*math.sin(math.radians(r))))\n",
    "    \n",
    "    cv2.circle(img, (x,y) ,6, (0, 0, 255) , 3)\n",
    "    cv2.imshow(\"Image\",img)\n",
    "    \n",
    "    k = cv2.waitKey(1000)\n",
    "    \n",
    "    if k == ord('q'):\n",
    "        break\n",
    "    r += 10\n",
    "    \n",
    "    \n",
    "cv2.destroyAllWindows()"
   ]
  }
 ],
 "metadata": {
  "kernelspec": {
   "display_name": "Python 3 (ipykernel)",
   "language": "python",
   "name": "python3"
  },
  "language_info": {
   "codemirror_mode": {
    "name": "ipython",
    "version": 3
   },
   "file_extension": ".py",
   "mimetype": "text/x-python",
   "name": "python",
   "nbconvert_exporter": "python",
   "pygments_lexer": "ipython3",
   "version": "3.9.7"
  }
 },
 "nbformat": 4,
 "nbformat_minor": 5
}
