{
 "cells": [
  {
   "cell_type": "markdown",
   "id": "c5b8e2b0",
   "metadata": {},
   "source": [
    "# <font color = brown>Import Library 📚"
   ]
  },
  {
   "cell_type": "code",
   "execution_count": 1,
   "id": "a3096210",
   "metadata": {},
   "outputs": [],
   "source": [
    "import cv2\n",
    "import numpy as np\n",
    "from matplotlib import pyplot as plt"
   ]
  },
  {
   "cell_type": "markdown",
   "id": "e8943acb",
   "metadata": {},
   "source": [
    "# <font color = red> Numpy: "
   ]
  },
  {
   "cell_type": "markdown",
   "id": "1c882e14",
   "metadata": {},
   "source": [
    "### Q1- construct 1d numpy array, 2d numpy array,3d numpy array.\n",
    "_______________________________________________"
   ]
  },
  {
   "cell_type": "code",
   "execution_count": 2,
   "id": "50c93330",
   "metadata": {},
   "outputs": [
    {
     "name": "stdout",
     "output_type": "stream",
     "text": [
      "[1 2 3]\n",
      "\n",
      "1\n"
     ]
    }
   ],
   "source": [
    "one_dim = np.array([1,2,3])\n",
    "\n",
    "print(one_dim, end = '\\n\\n')\n",
    "print(one_dim.ndim)"
   ]
  },
  {
   "cell_type": "code",
   "execution_count": 3,
   "id": "79a8a58e",
   "metadata": {},
   "outputs": [
    {
     "name": "stdout",
     "output_type": "stream",
     "text": [
      "[[1 2 3]\n",
      " [4 5 6]\n",
      " [7 8 9]]\n",
      "\n",
      "2\n"
     ]
    }
   ],
   "source": [
    "two_dim = np.array([[1,2,3],\n",
    "                    [4,5,6],\n",
    "                    [7,8,9]])\n",
    "\n",
    "print(two_dim, end = '\\n\\n')\n",
    "print(two_dim.ndim)"
   ]
  },
  {
   "cell_type": "code",
   "execution_count": 4,
   "id": "04ce9eb2",
   "metadata": {},
   "outputs": [
    {
     "name": "stdout",
     "output_type": "stream",
     "text": [
      "[[[1 2 3]\n",
      "  [4 5 6]\n",
      "  [7 8 9]]]\n",
      "\n",
      "3\n"
     ]
    }
   ],
   "source": [
    "three_dim = np.array([[[1,2,3],\n",
    "                       [4,5,6],\n",
    "                       [7,8,9]]])\n",
    "\n",
    "print(three_dim, end = '\\n\\n')\n",
    "print(three_dim.ndim)"
   ]
  },
  {
   "cell_type": "markdown",
   "id": "4101742c",
   "metadata": {},
   "source": [
    "## Q2- Write a NumPy program to test whether any of the elements of a given array is non-zero. Hint use any()\n",
    "______________________________________________________"
   ]
  },
  {
   "cell_type": "code",
   "execution_count": 5,
   "id": "d7e270a2",
   "metadata": {},
   "outputs": [
    {
     "name": "stdout",
     "output_type": "stream",
     "text": [
      "True\n",
      "False\n"
     ]
    }
   ],
   "source": [
    "def any_zero(arr):\n",
    "    return arr.any()\n",
    "\n",
    "print(any_zero(np.array([1,2,3,4])))\n",
    "print(any_zero(np.array([0,0,0,0])))"
   ]
  },
  {
   "cell_type": "markdown",
   "id": "a6c17610",
   "metadata": {},
   "source": [
    "## Q3- Write a NumPy program to create an array of 10 zeros, 10 ones, 10 fives.\n",
    "________________________________________"
   ]
  },
  {
   "cell_type": "code",
   "execution_count": 6,
   "id": "f2616baf",
   "metadata": {},
   "outputs": [
    {
     "name": "stdout",
     "output_type": "stream",
     "text": [
      "[0 0 0 0 0 0 0 0 0 0]\n",
      "\n",
      "[1 1 1 1 1 1 1 1 1 1]\n",
      "\n",
      "[8 8 8 8 8 8 8 8 8 8]\n",
      "\n"
     ]
    }
   ],
   "source": [
    "zero  = np.zeros(10, np.uint8)\n",
    "ones  =  np.ones(10, np.uint8)\n",
    "fives =  np.full(10, 8)\n",
    "\n",
    "print(zero, end='\\n\\n')\n",
    "print(ones, end='\\n\\n')\n",
    "print(fives, end='\\n\\n')"
   ]
  },
  {
   "cell_type": "markdown",
   "id": "dd90ec42",
   "metadata": {},
   "source": [
    "## Q4- Write a NumPy program to create an array of 10 zeros 3d\n",
    "________________________________________"
   ]
  },
  {
   "cell_type": "code",
   "execution_count": 7,
   "id": "a60bcb70",
   "metadata": {
    "scrolled": true
   },
   "outputs": [
    {
     "name": "stdout",
     "output_type": "stream",
     "text": [
      "[[[0. 0. 0.]\n",
      "  [0. 0. 0.]\n",
      "  [0. 0. 0.]]\n",
      "\n",
      " [[0. 0. 0.]\n",
      "  [0. 0. 0.]\n",
      "  [0. 0. 0.]]\n",
      "\n",
      " [[0. 0. 0.]\n",
      "  [0. 0. 0.]\n",
      "  [0. 0. 0.]]]\n",
      "\n",
      "3\n"
     ]
    }
   ],
   "source": [
    "zeros_3d = np.zeros((3,3,3))\n",
    "\n",
    "print(zeros_3d, end = '\\n\\n')\n",
    "print(zeros_3d.ndim)"
   ]
  },
  {
   "cell_type": "markdown",
   "id": "59b20461",
   "metadata": {},
   "source": [
    "## Q5- Write a NumPy program to create an array of the integers from 30 to 70.\n",
    "_______________________________________"
   ]
  },
  {
   "cell_type": "code",
   "execution_count": 8,
   "id": "e3f9e60b",
   "metadata": {},
   "outputs": [
    {
     "name": "stdout",
     "output_type": "stream",
     "text": [
      "[30 31 32 33 34 35 36 37 38 39 40 41 42 43 44 45 46 47 48 49 50 51 52 53\n",
      " 54 55 56 57 58 59 60 61 62 63 64 65 66 67 68 69 70]\n",
      "\n",
      "<class 'numpy.ndarray'>\n"
     ]
    }
   ],
   "source": [
    "range_num = np.arange(30, 71)\n",
    "\n",
    "print(range_num, end = \"\\n\\n\")\n",
    "print(type(range_num))"
   ]
  },
  {
   "cell_type": "markdown",
   "id": "c238bd65",
   "metadata": {},
   "source": [
    "## Q6- Write a NumPy program to create a 3x3 identity matrix.\n",
    "_______________________________________"
   ]
  },
  {
   "cell_type": "code",
   "execution_count": 9,
   "id": "52434a71",
   "metadata": {},
   "outputs": [
    {
     "name": "stdout",
     "output_type": "stream",
     "text": [
      "[[1 0 0]\n",
      " [0 1 0]\n",
      " [0 0 1]]\n"
     ]
    }
   ],
   "source": [
    "identity = np.identity(3, np.uint8)\n",
    "print(identity)"
   ]
  },
  {
   "cell_type": "markdown",
   "id": "a84d2b80",
   "metadata": {},
   "source": [
    "## Q7- Write a NumPy program to generate a random number between 0 and 1.\n",
    "_______________________________"
   ]
  },
  {
   "cell_type": "code",
   "execution_count": 10,
   "id": "d1e6086a",
   "metadata": {},
   "outputs": [
    {
     "name": "stdout",
     "output_type": "stream",
     "text": [
      "[0.32868634 0.97301647 0.02243273 0.24796399 0.99993115 0.92862545\n",
      " 0.79901845 0.87070753 0.06878017 0.57202588]\n"
     ]
    }
   ],
   "source": [
    "random = np.random.rand(10)\n",
    "print(random)"
   ]
  },
  {
   "cell_type": "markdown",
   "id": "092fb7ce",
   "metadata": {},
   "source": [
    "## Q8- Write a NumPy program to create a 3X4 array using and iterate over it.\n",
    "______________________________________"
   ]
  },
  {
   "cell_type": "code",
   "execution_count": 11,
   "id": "46c0a098",
   "metadata": {},
   "outputs": [
    {
     "name": "stdout",
     "output_type": "stream",
     "text": [
      "[[ 1 13 14  0]\n",
      " [ 7  3  0 19]\n",
      " [18  2 12  6]]\n",
      "\n",
      "1  13  14  0  7  3  0  19  18  2  12  6  "
     ]
    }
   ],
   "source": [
    "arr = np.random.randint(20, size = (3,4))\n",
    "\n",
    "print(arr, end = '\\n\\n')\n",
    "\n",
    "for row in range(arr.shape[0]):\n",
    "    for colm in range(arr.shape[1]):\n",
    "        print(arr[row, colm], end = \"  \")"
   ]
  },
  {
   "cell_type": "markdown",
   "id": "7c8aa9e1",
   "metadata": {},
   "source": [
    "## Q9- Write a NumPy program to create a 10x10 matrix, in which the elements on the borders will be equal to 1, and inside 0. \n",
    "______________________________________"
   ]
  },
  {
   "cell_type": "code",
   "execution_count": 12,
   "id": "a9a54d57",
   "metadata": {},
   "outputs": [
    {
     "name": "stdout",
     "output_type": "stream",
     "text": [
      "[[1 1 1 1 1 1 1 1 1 1]\n",
      " [1 0 0 0 0 0 0 0 0 1]\n",
      " [1 0 0 0 0 0 0 0 0 1]\n",
      " [1 0 0 0 0 0 0 0 0 1]\n",
      " [1 0 0 0 0 0 0 0 0 1]\n",
      " [1 0 0 0 0 0 0 0 0 1]\n",
      " [1 0 0 0 0 0 0 0 0 1]\n",
      " [1 0 0 0 0 0 0 0 0 1]\n",
      " [1 0 0 0 0 0 0 0 0 1]\n",
      " [1 1 1 1 1 1 1 1 1 1]]\n"
     ]
    }
   ],
   "source": [
    "mat = np.zeros((10, 10), np.uint8)\n",
    "\n",
    "mat[(0,-1), :] = 1\n",
    "mat[:, (0,-1)] = 1\n",
    "print(mat)"
   ]
  },
  {
   "cell_type": "markdown",
   "id": "34077e36",
   "metadata": {},
   "source": [
    "\n",
    " # <font color = red> CV:"
   ]
  },
  {
   "cell_type": "markdown",
   "id": "3e00de4f",
   "metadata": {},
   "source": [
    "## Q10- read “Task_in” image and then print image shape ,plot the image using matplotlib and opencv then edit the right corner pixel to be red color then save the image as (.jpg,.npg) to your current folder name it “my_image.png” then read both image again. “Make your observation”.\n",
    "__________________________________________"
   ]
  },
  {
   "cell_type": "code",
   "execution_count": 13,
   "id": "62a6d442",
   "metadata": {},
   "outputs": [
    {
     "name": "stdout",
     "output_type": "stream",
     "text": [
      "(21, 21, 3)\n"
     ]
    },
    {
     "data": {
      "text/plain": [
       "<matplotlib.image.AxesImage at 0x228a6845dc0>"
      ]
     },
     "execution_count": 13,
     "metadata": {},
     "output_type": "execute_result"
    },
    {
     "data": {
      "image/png": "[encoded data removed]",
      "text/plain": [
       "<Figure size 432x288 with 1 Axes>"
      ]
     },
     "metadata": {
      "needs_background": "light"
     },
     "output_type": "display_data"
    }
   ],
   "source": [
    "img = cv2.imread('Task_in.jpg')\n",
    "\n",
    "print(img.shape)\n",
    "\n",
    "plt.imshow(img) #plot the image using matplotlib (R G B)"
   ]
  },
  {
   "cell_type": "code",
   "execution_count": 14,
   "id": "e0f1b7a4",
   "metadata": {},
   "outputs": [],
   "source": [
    "cv2.imshow('Image', img)\n",
    "\n",
    "cv2.waitKey(0)\n",
    "cv2.destroyAllWindows()"
   ]
  },
  {
   "cell_type": "code",
   "execution_count": 15,
   "id": "f47f64d0",
   "metadata": {},
   "outputs": [],
   "source": [
    "#img = cv2.cvtColor(img, cv2.COLOR_BGR2RGB)"
   ]
  },
  {
   "cell_type": "code",
   "execution_count": 16,
   "id": "ad5b7402",
   "metadata": {},
   "outputs": [],
   "source": [
    "img[0,-1,0] = 255"
   ]
  },
  {
   "cell_type": "code",
   "execution_count": 17,
   "id": "b119d403",
   "metadata": {},
   "outputs": [
    {
     "data": {
      "text/plain": [
       "<matplotlib.image.AxesImage at 0x228a7a29a00>"
      ]
     },
     "execution_count": 17,
     "metadata": {},
     "output_type": "execute_result"
    },
    {
     "data": {
      "image/png": "[encoded data removed]",
      "text/plain": [
       "<Figure size 432x288 with 1 Axes>"
      ]
     },
     "metadata": {
      "needs_background": "light"
     },
     "output_type": "display_data"
    }
   ],
   "source": [
    "plt.imshow(img)"
   ]
  },
  {
   "cell_type": "code",
   "execution_count": 18,
   "id": "e77fbba9",
   "metadata": {},
   "outputs": [
    {
     "data": {
      "text/plain": [
       "True"
      ]
     },
     "execution_count": 18,
     "metadata": {},
     "output_type": "execute_result"
    }
   ],
   "source": [
    "cv2.imwrite('my_image/Task_out.jpg', img)\n",
    "cv2.imwrite('my_image/Task_out.png', img)"
   ]
  },
  {
   "cell_type": "code",
   "execution_count": 19,
   "id": "cd23e7c2",
   "metadata": {},
   "outputs": [
    {
     "data": {
      "text/plain": [
       "<matplotlib.image.AxesImage at 0x228a7aab430>"
      ]
     },
     "execution_count": 19,
     "metadata": {},
     "output_type": "execute_result"
    },
    {
     "data": {
      "image/png": "[encoded data removed]",
      "text/plain": [
       "<Figure size 432x288 with 1 Axes>"
      ]
     },
     "metadata": {
      "needs_background": "light"
     },
     "output_type": "display_data"
    }
   ],
   "source": [
    "img2 = cv2.imread('my_image/Task_out.png')\n",
    "\n",
    "plt.imshow(img2)\n",
    "\n",
    "# MY observation in this question the CV2 use BGR format but Mateplotlib use format RGB so in the notebook the picture \n",
    "# show red corner but when save the picture show as blue corner and the second observation the picture is pixelated"
   ]
  },
  {
   "cell_type": "markdown",
   "id": "ff493f4c",
   "metadata": {},
   "source": [
    "## Q11- make 51 * 51 * 3 RGB image with Blue color then save it as”Blue.jpg”\n",
    "________________________________"
   ]
  },
  {
   "cell_type": "code",
   "execution_count": 20,
   "id": "3ed18e90",
   "metadata": {},
   "outputs": [],
   "source": [
    "blue = np.zeros((51,51,3), np.uint8)\n",
    "blue[:, :,-1] = 255"
   ]
  },
  {
   "cell_type": "code",
   "execution_count": 21,
   "id": "6916f92e",
   "metadata": {},
   "outputs": [
    {
     "data": {
      "text/plain": [
       "<matplotlib.image.AxesImage at 0x228a7b19bb0>"
      ]
     },
     "execution_count": 21,
     "metadata": {},
     "output_type": "execute_result"
    },
    {
     "data": {
      "image/png": "[encoded data removed]",
      "text/plain": [
       "<Figure size 432x288 with 1 Axes>"
      ]
     },
     "metadata": {
      "needs_background": "light"
     },
     "output_type": "display_data"
    }
   ],
   "source": [
    "plt.imshow(blue)"
   ]
  },
  {
   "cell_type": "code",
   "execution_count": 22,
   "id": "94a34c47",
   "metadata": {},
   "outputs": [
    {
     "data": {
      "text/plain": [
       "True"
      ]
     },
     "execution_count": 22,
     "metadata": {},
     "output_type": "execute_result"
    }
   ],
   "source": [
    "cv2.imwrite('Blue.JPG', blue) #here display as blue color but in my file windows is red color"
   ]
  },
  {
   "cell_type": "markdown",
   "id": "ca66e9ce",
   "metadata": {},
   "source": [
    "## Q12- Make trackbar for rgb colors with window “colors” .\n",
    "____________________________________"
   ]
  },
  {
   "cell_type": "code",
   "execution_count": 23,
   "id": "c7013f63",
   "metadata": {
    "scrolled": false
   },
   "outputs": [],
   "source": [
    "def nothing(x):\n",
    "    return\n",
    "\n",
    "image = np.zeros((500,500,3), np.uint8)\n",
    "\n",
    "cv2.namedWindow(\"Image\")\n",
    "cv2.createTrackbar(\"Red\", \"Image\", 0, 255, nothing)\n",
    "cv2.createTrackbar('Green', 'Image', 0, 255, nothing)\n",
    "cv2.createTrackbar('Blue', 'Image', 0, 255, nothing)\n",
    "\n",
    "while(True):\n",
    "    r = cv2.getTrackbarPos('Red', 'Image')\n",
    "    g = cv2.getTrackbarPos('Green', 'Image')\n",
    "    b = cv2.getTrackbarPos('Blue', 'Image')\n",
    "    \n",
    "    image[:] = [r, g, b]\n",
    "    cv2.imshow('Image', image)\n",
    "    \n",
    "    key = cv2.waitKey(1) # 0 indicates infinete loop\n",
    "    if key == ord('q'):\n",
    "        break\n",
    "\n",
    "cv2.destroyAllWindows()"
   ]
  }
 ],
 "metadata": {
  "kernelspec": {
   "display_name": "Python 3 (ipykernel)",
   "language": "python",
   "name": "python3"
  },
  "language_info": {
   "codemirror_mode": {
    "name": "ipython",
    "version": 3
   },
   "file_extension": ".py",
   "mimetype": "text/x-python",
   "name": "python",
   "nbconvert_exporter": "python",
   "pygments_lexer": "ipython3",
   "version": "3.9.7"
  }
 },
 "nbformat": 4,
 "nbformat_minor": 5
}
