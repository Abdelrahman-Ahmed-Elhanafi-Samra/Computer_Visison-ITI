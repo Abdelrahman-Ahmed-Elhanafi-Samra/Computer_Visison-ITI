{
 "cells": [
  {
   "cell_type": "markdown",
   "id": "32457632",
   "metadata": {},
   "source": [
    "## Q1: z = 5x - 3y + 7 Task: Given the previous equation: - Generate 10 random values for `x` and `y` as input with max. value = 100. Input shape should be (10,2)\n",
    "### - Generate z for the above values. \n",
    "### - Create a model with 2 inputs to accept x and y and predicts z.\n",
    "\n",
    "\n",
    "### You must show the results: Model Weights.\n",
    "### Criteria: - Model must be 1 neuron only. - Numbers must be with max 0.1 error.\n",
    "____________________________________________"
   ]
  },
  {
   "cell_type": "markdown",
   "id": "b1ffccac",
   "metadata": {},
   "source": [
    "# <font color = green>Import Library 📚\n",
    "_____________________________________"
   ]
  },
  {
   "cell_type": "code",
   "execution_count": 1,
   "id": "1cbdacd8",
   "metadata": {},
   "outputs": [],
   "source": [
    "import tensorflow as tf\n",
    "import numpy as np\n",
    "import matplotlib.pyplot as plt\n",
    "import time"
   ]
  },
  {
   "cell_type": "markdown",
   "id": "3785fbb8",
   "metadata": {},
   "source": [
    "# <font color = orange>Create Data set\n",
    "_________________________________________"
   ]
  },
  {
   "cell_type": "code",
   "execution_count": 2,
   "id": "953eaf30",
   "metadata": {},
   "outputs": [
    {
     "name": "stdout",
     "output_type": "stream",
     "text": [
      "[[35 58]\n",
      " [93 46]\n",
      " [44 29]\n",
      " [27 85]\n",
      " [ 3 40]\n",
      " [20  6]\n",
      " [ 2 61]\n",
      " [22 94]\n",
      " [17 93]\n",
      " [43 66]]\n",
      "\n",
      "[   8  334  140 -113  -98   89 -166 -165 -187   24]\n"
     ]
    }
   ],
   "source": [
    "x_And_y = np.random.randint(100, size = (10,2))\n",
    "z = (5 * x_And_y[:, 0]) - (3 * x_And_y[:, 1]) + 7\n",
    "\n",
    "print(x_And_y, end='\\n\\n')\n",
    "print(z)"
   ]
  },
  {
   "cell_type": "markdown",
   "id": "054e54bf",
   "metadata": {},
   "source": [
    "# <font color = red>Create Model and Compile the model\n",
    "_______________________"
   ]
  },
  {
   "cell_type": "code",
   "execution_count": 3,
   "id": "5546d1a9",
   "metadata": {},
   "outputs": [],
   "source": [
    "model = tf.keras.Sequential( tf.keras.layers.Dense(units=1, input_shape=[2]) )\n",
    "\n",
    "model.compile( loss='mean_squared_error', optimizer=tf.keras.optimizers.Adam(0.1) )"
   ]
  },
  {
   "cell_type": "code",
   "execution_count": 4,
   "id": "6e9346fa",
   "metadata": {},
   "outputs": [
    {
     "name": "stdout",
     "output_type": "stream",
     "text": [
      "Model: \"sequential\"\n",
      "_________________________________________________________________\n",
      " Layer (type)                Output Shape              Param #   \n",
      "=================================================================\n",
      " dense (Dense)               (None, 1)                 3         \n",
      "                                                                 \n",
      "=================================================================\n",
      "Total params: 3\n",
      "Trainable params: 3\n",
      "Non-trainable params: 0\n",
      "_________________________________________________________________\n"
     ]
    }
   ],
   "source": [
    "model.summary()"
   ]
  },
  {
   "cell_type": "markdown",
   "id": "a7e48808",
   "metadata": {},
   "source": [
    "# <font color = orange>Train the model\n",
    "_____________________________"
   ]
  },
  {
   "cell_type": "code",
   "execution_count": 5,
   "id": "c045e807",
   "metadata": {},
   "outputs": [
    {
     "name": "stdout",
     "output_type": "stream",
     "text": [
      "Training took: 13.09 Sec\n"
     ]
    }
   ],
   "source": [
    "Time = time.time()\n",
    "\n",
    "fitting = model.fit(x_And_y, z, epochs=6000, verbose=0)\n",
    "\n",
    "print (str.format(\"Training took: {:0.2f} Sec\", time.time() - Time))"
   ]
  },
  {
   "cell_type": "markdown",
   "id": "d3f71cef",
   "metadata": {},
   "source": [
    "# <font color = red>Visualize results\n",
    "_____________________________________"
   ]
  },
  {
   "cell_type": "code",
   "execution_count": 6,
   "id": "c5d1e912",
   "metadata": {},
   "outputs": [
    {
     "data": {
      "text/plain": [
       "[<matplotlib.lines.Line2D at 0x255c60b9e50>]"
      ]
     },
     "execution_count": 6,
     "metadata": {},
     "output_type": "execute_result"
    },
    {
     "data": {
      "image/png": "[encoded data removed]",
      "text/plain": [
       "<Figure size 432x288 with 1 Axes>"
      ]
     },
     "metadata": {
      "needs_background": "light"
     },
     "output_type": "display_data"
    }
   ],
   "source": [
    "plt.xlabel('Epoch Number')\n",
    "plt.ylabel(\"Loss Magnitude\")\n",
    "plt.plot(fitting.history['loss'][:2000])"
   ]
  },
  {
   "cell_type": "markdown",
   "id": "e8df4c2f",
   "metadata": {},
   "source": [
    "# <font color = orange>The weight\n",
    "_____________________________"
   ]
  },
  {
   "cell_type": "code",
   "execution_count": 7,
   "id": "870f88b8",
   "metadata": {
    "scrolled": true
   },
   "outputs": [
    {
     "data": {
      "text/plain": [
       "[array([[ 5.       ],\n",
       "        [-3.0000002]], dtype=float32),\n",
       " array([7.000001], dtype=float32)]"
      ]
     },
     "execution_count": 7,
     "metadata": {},
     "output_type": "execute_result"
    }
   ],
   "source": [
    "model.get_weights()"
   ]
  },
  {
   "cell_type": "markdown",
   "id": "0da199aa",
   "metadata": {},
   "source": [
    "# <font color = red> Test result\n",
    "__________________________________________    "
   ]
  },
  {
   "cell_type": "code",
   "execution_count": 8,
   "id": "db097494",
   "metadata": {},
   "outputs": [
    {
     "name": "stdout",
     "output_type": "stream",
     "text": [
      "1/1 [==============================] - 0s 115ms/step\n",
      "The out put: \n",
      "\n",
      " [-188  -77  -28  -77  149  170    6  -36  -92   -5]\n",
      "\n",
      "The predict model: \n",
      "\n",
      " [[-188.00002    -77.000015   -28.000004   -77.00001    148.99998\n",
      "   170.           6.0000005  -36.000015   -92.00001     -5.0000143]]\n"
     ]
    }
   ],
   "source": [
    "ipt = np.random.randint(100, size = (10,2))\n",
    "out = (5 * ipt[:, 0]) - (3 * ipt[:, 1]) + 7\n",
    "\n",
    "predict = model.predict([ipt])\n",
    "\n",
    "print('The out put: \\n\\n', out, end = '\\n\\n')\n",
    "\n",
    "print('The predict model: \\n\\n', predict.reshape((1, 10)))"
   ]
  }
 ],
 "metadata": {
  "kernelspec": {
   "display_name": "Python 3 (ipykernel)",
   "language": "python",
   "name": "python3"
  },
  "language_info": {
   "codemirror_mode": {
    "name": "ipython",
    "version": 3
   },
   "file_extension": ".py",
   "mimetype": "text/x-python",
   "name": "python",
   "nbconvert_exporter": "python",
   "pygments_lexer": "ipython3",
   "version": "3.9.7"
  }
 },
 "nbformat": 4,
 "nbformat_minor": 5
}
